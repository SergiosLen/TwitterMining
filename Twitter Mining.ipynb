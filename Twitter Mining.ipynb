{
 "cells": [
  {
   "cell_type": "code",
   "execution_count": 1,
   "metadata": {
    "collapsed": false
   },
   "outputs": [],
   "source": [
    "import pandas as pd\n",
    "import json \n",
    "import os\n",
    "import imp\n",
    "from IPython.display import Image\n",
    "# pip install --user python-twitter\n"
   ]
  },
  {
   "cell_type": "code",
   "execution_count": null,
   "metadata": {
    "collapsed": true
   },
   "outputs": [],
   "source": []
  },
  {
   "cell_type": "markdown",
   "metadata": {
    "collapsed": true
   },
   "source": [
    "http://twitter.com/apps/new"
   ]
  },
  {
   "cell_type": "code",
   "execution_count": null,
   "metadata": {
    "collapsed": false
   },
   "outputs": [],
   "source": [
    "Image(\"pngs/apptwitter_new.png\")"
   ]
  },
  {
   "cell_type": "code",
   "execution_count": null,
   "metadata": {
    "collapsed": true
   },
   "outputs": [],
   "source": []
  },
  {
   "cell_type": "code",
   "execution_count": null,
   "metadata": {
    "collapsed": false
   },
   "outputs": [],
   "source": [
    "Image(\"pngs/login_to_twitter.png\")"
   ]
  },
  {
   "cell_type": "code",
   "execution_count": null,
   "metadata": {
    "collapsed": true
   },
   "outputs": [],
   "source": []
  },
  {
   "cell_type": "code",
   "execution_count": null,
   "metadata": {
    "collapsed": false
   },
   "outputs": [],
   "source": [
    "Image(\"pngs/create_app.png\")"
   ]
  },
  {
   "cell_type": "code",
   "execution_count": null,
   "metadata": {
    "collapsed": true
   },
   "outputs": [],
   "source": []
  },
  {
   "cell_type": "code",
   "execution_count": null,
   "metadata": {
    "collapsed": false
   },
   "outputs": [],
   "source": [
    "Image(\"pngs/select_app.png\")"
   ]
  },
  {
   "cell_type": "code",
   "execution_count": null,
   "metadata": {
    "collapsed": true
   },
   "outputs": [],
   "source": []
  },
  {
   "cell_type": "code",
   "execution_count": null,
   "metadata": {
    "collapsed": false
   },
   "outputs": [],
   "source": [
    "Image(\"pngs/app_created.png\")"
   ]
  },
  {
   "cell_type": "code",
   "execution_count": null,
   "metadata": {
    "collapsed": true
   },
   "outputs": [],
   "source": []
  },
  {
   "cell_type": "code",
   "execution_count": null,
   "metadata": {
    "collapsed": false
   },
   "outputs": [],
   "source": [
    "Image(\"pngs/create_tokens_pass.png\")"
   ]
  },
  {
   "cell_type": "code",
   "execution_count": null,
   "metadata": {
    "collapsed": true
   },
   "outputs": [],
   "source": []
  },
  {
   "cell_type": "code",
   "execution_count": null,
   "metadata": {
    "collapsed": false
   },
   "outputs": [],
   "source": [
    "Image(\"pngs/tokens_created.png\")"
   ]
  },
  {
   "cell_type": "code",
   "execution_count": null,
   "metadata": {
    "collapsed": false
   },
   "outputs": [],
   "source": []
  },
  {
   "cell_type": "code",
   "execution_count": null,
   "metadata": {
    "collapsed": true
   },
   "outputs": [],
   "source": []
  },
  {
   "cell_type": "code",
   "execution_count": null,
   "metadata": {
    "collapsed": false
   },
   "outputs": [],
   "source": [
    "Image(\"pngs/token_pass_final.png\")"
   ]
  },
  {
   "cell_type": "code",
   "execution_count": null,
   "metadata": {
    "collapsed": true
   },
   "outputs": [],
   "source": []
  },
  {
   "cell_type": "code",
   "execution_count": null,
   "metadata": {
    "collapsed": true
   },
   "outputs": [],
   "source": []
  },
  {
   "cell_type": "markdown",
   "metadata": {},
   "source": [
    "Setting input and output directories"
   ]
  },
  {
   "cell_type": "code",
   "execution_count": 2,
   "metadata": {
    "collapsed": false
   },
   "outputs": [
    {
     "name": "stdout",
     "output_type": "stream",
     "text": [
      "I am being imported from another module\n"
     ]
    }
   ],
   "source": [
    "input_dir='/home/mab/github_repos/TwitterMining'\n",
    "\n",
    "output_dir='/home/mab/Desktop/twitTemp'\n",
    "\n",
    "# cred_dic=None\n",
    "\n",
    "cred_dic='/home/mab/github_repos/TwitterMining/credentials/auth_cred.txt'\n",
    "# cred_dic='/media/sergios-len/Elements/Brighton_workshop/auth_cred.txt'\n",
    "\n",
    "# working_dir='/home/sergios-len/Documents/githubs/TwitterMining'\n",
    "pp= !pwd\n",
    "os.chdir(input_dir)\n",
    "from test_class_tpa import create_df\n",
    "import collect_tweets_notebook as ctn\n",
    "\n",
    "os.chdir(pp[0])\n",
    "\n",
    "def create_beaker_com_dict(sps):\n",
    "    nsps={}\n",
    "    for k,v in sps.items():\n",
    "        nsps[k]=[]\n",
    "        if k=='date_split':\n",
    "            for kk in sorted(v.keys()):\n",
    "                nsps[k].append(v[kk].strftime('%Y%m%d'))\n",
    "        else:\n",
    "            for kk in sorted(v.keys()):\n",
    "                nsps[k].append(v[kk])\n",
    "\n",
    "    return nsps\n"
   ]
  },
  {
   "cell_type": "markdown",
   "metadata": {},
   "source": [
    "Authentication and login in twitter api"
   ]
  },
  {
   "cell_type": "code",
   "execution_count": null,
   "metadata": {
    "collapsed": false
   },
   "outputs": [],
   "source": [
    "vv=ctn.UserAuth(auth_file=cred_dic)"
   ]
  },
  {
   "cell_type": "code",
   "execution_count": null,
   "metadata": {
    "collapsed": false
   },
   "outputs": [],
   "source": [
    "vv.login()"
   ]
  },
  {
   "cell_type": "code",
   "execution_count": null,
   "metadata": {
    "collapsed": false
   },
   "outputs": [],
   "source": [
    "vv.check_login()"
   ]
  },
  {
   "cell_type": "code",
   "execution_count": null,
   "metadata": {
    "collapsed": false
   },
   "outputs": [],
   "source": [
    "twi_api=vv.get_auth()"
   ]
  },
  {
   "cell_type": "markdown",
   "metadata": {},
   "source": [
    "Search"
   ]
  },
  {
   "cell_type": "markdown",
   "metadata": {},
   "source": [
    "The twitter search api page:\n",
    "https://dev.twitter.com/rest/public/search"
   ]
  },
  {
   "cell_type": "code",
   "execution_count": null,
   "metadata": {
    "collapsed": true
   },
   "outputs": [],
   "source": [
    "search_term='#France -Paris'"
   ]
  },
  {
   "cell_type": "code",
   "execution_count": null,
   "metadata": {
    "collapsed": false
   },
   "outputs": [],
   "source": [
    "sea=ctn.TwitterSearch(twi_api,search_text=search_term,working_path=output_dir,out_file_dir=None,\n",
    "max_pages=10,results_per_page=100,sin_id=None,max_id=None,verbose=True)"
   ]
  },
  {
   "cell_type": "code",
   "execution_count": null,
   "metadata": {
    "collapsed": false,
    "scrolled": true
   },
   "outputs": [],
   "source": [
    "sea.streamsearch()"
   ]
  },
  {
   "cell_type": "markdown",
   "metadata": {},
   "source": [
    "Creating the twitter dataframe"
   ]
  },
  {
   "cell_type": "code",
   "execution_count": 3,
   "metadata": {
    "collapsed": false,
    "scrolled": true
   },
   "outputs": [
    {
     "name": "stdout",
     "output_type": "stream",
     "text": [
      "['#France_Paris.json', '#France.json', '#France_-Paris.json']\n",
      "581\n",
      "2541\n",
      "386\n",
      "Index([u'#Photos', u'#Undefined', u'#Videos', u'Mentions', u'bounding',\n",
      "       u'coordinates', u'created_at', u'followers_count', u'friends_count',\n",
      "       u'hashtag_count', u'hashtags', u'id', u'lang', u'listed_count',\n",
      "       u'mention_count', u'place', u'retweet_count', u'statuses_count',\n",
      "       u'text', u'user_id', u'username'],\n",
      "      dtype='object')\n"
     ]
    }
   ],
   "source": [
    "json_dir='/home/mab/Desktop/twitTemp/Output'\n",
    "selt='rr'\n",
    "# outname='/home/sergios-len/Documents/W5/myScripts/beakers/%s_outpd.csv' %fifi\n",
    "outname=''\n",
    "pdf,httoadds=create_df(json_dir,selt,outname,multihas=False,r_or_p='python')\n",
    "columnss=['id','user_id','username','created_at','language','hashtag_count',\n",
    "          'retweet_count','mention_count','statuses_count','followers_count',\n",
    "          'friends_count','listed_count',\n",
    "          'videos_count','photos_count','undef_count',\n",
    "          'coordinates','bounding','place','hashtags','mentions','text']\n",
    "pdf=pdf[columnss]"
   ]
  },
  {
   "cell_type": "code",
   "execution_count": 7,
   "metadata": {
    "collapsed": false
   },
   "outputs": [
    {
     "data": {
      "text/html": [
       "<div>\n",
       "<table border=\"1\" class=\"dataframe\">\n",
       "  <thead>\n",
       "    <tr style=\"text-align: right;\">\n",
       "      <th></th>\n",
       "      <th>id</th>\n",
       "      <th>user_id</th>\n",
       "      <th>username</th>\n",
       "      <th>lang</th>\n",
       "      <th>created_at</th>\n",
       "      <th>hashtag_count</th>\n",
       "      <th>mention_count</th>\n",
       "      <th>followers_count</th>\n",
       "      <th>friends_count</th>\n",
       "      <th>listed_count</th>\n",
       "      <th>...</th>\n",
       "      <th>statuses_count</th>\n",
       "      <th>#Undefined</th>\n",
       "      <th>#Videos</th>\n",
       "      <th>#Photos</th>\n",
       "      <th>coordinates</th>\n",
       "      <th>bounding</th>\n",
       "      <th>place</th>\n",
       "      <th>hashtags</th>\n",
       "      <th>Mentions</th>\n",
       "      <th>text</th>\n",
       "    </tr>\n",
       "  </thead>\n",
       "  <tbody>\n",
       "    <tr>\n",
       "      <th>0</th>\n",
       "      <td>736179397611429888</td>\n",
       "      <td>22692199</td>\n",
       "      <td>HISTORY</td>\n",
       "      <td>en</td>\n",
       "      <td>Fri May 27 12:57:00 +0000 2016</td>\n",
       "      <td>2</td>\n",
       "      <td>0</td>\n",
       "      <td>1524223</td>\n",
       "      <td>17069.0</td>\n",
       "      <td>9643.0</td>\n",
       "      <td>...</td>\n",
       "      <td>46613</td>\n",
       "      <td>0</td>\n",
       "      <td>0</td>\n",
       "      <td>0</td>\n",
       "      <td>\"\"</td>\n",
       "      <td>None</td>\n",
       "      <td>None</td>\n",
       "      <td>[thisdayinhistory, france]</td>\n",
       "      <td>[]</td>\n",
       "      <td>On #ThisDayInHistory 1941, the British navy si...</td>\n",
       "    </tr>\n",
       "    <tr>\n",
       "      <th>1</th>\n",
       "      <td>736299538303057920</td>\n",
       "      <td>64643056</td>\n",
       "      <td>RT_com</td>\n",
       "      <td>en</td>\n",
       "      <td>Fri May 27 20:54:24 +0000 2016</td>\n",
       "      <td>1</td>\n",
       "      <td>0</td>\n",
       "      <td>2126025</td>\n",
       "      <td>565.0</td>\n",
       "      <td>17993.0</td>\n",
       "      <td>...</td>\n",
       "      <td>168440</td>\n",
       "      <td>0</td>\n",
       "      <td>0</td>\n",
       "      <td>0</td>\n",
       "      <td>\"\"</td>\n",
       "      <td>None</td>\n",
       "      <td>None</td>\n",
       "      <td>[france]</td>\n",
       "      <td>[]</td>\n",
       "      <td>No weekend work emails if new law forbidding t...</td>\n",
       "    </tr>\n",
       "    <tr>\n",
       "      <th>2</th>\n",
       "      <td>736292031203512320</td>\n",
       "      <td>64643056</td>\n",
       "      <td>RT_com</td>\n",
       "      <td>en</td>\n",
       "      <td>Fri May 27 20:24:34 +0000 2016</td>\n",
       "      <td>3</td>\n",
       "      <td>0</td>\n",
       "      <td>2126025</td>\n",
       "      <td>565.0</td>\n",
       "      <td>17993.0</td>\n",
       "      <td>...</td>\n",
       "      <td>168440</td>\n",
       "      <td>0</td>\n",
       "      <td>0</td>\n",
       "      <td>0</td>\n",
       "      <td>\"\"</td>\n",
       "      <td>None</td>\n",
       "      <td>None</td>\n",
       "      <td>[loitravail, france, labor]</td>\n",
       "      <td>[]</td>\n",
       "      <td>Chaos, uncertainty &amp;amp; anger: 5 ways anti-#l...</td>\n",
       "    </tr>\n",
       "    <tr>\n",
       "      <th>3</th>\n",
       "      <td>736628844870897664</td>\n",
       "      <td>718166731835969536</td>\n",
       "      <td>gaiadifelice</td>\n",
       "      <td>en</td>\n",
       "      <td>Sat May 28 18:42:57 +0000 2016</td>\n",
       "      <td>3</td>\n",
       "      <td>2</td>\n",
       "      <td>7</td>\n",
       "      <td>26.0</td>\n",
       "      <td>1.0</td>\n",
       "      <td>...</td>\n",
       "      <td>294</td>\n",
       "      <td>1</td>\n",
       "      <td>0</td>\n",
       "      <td>1</td>\n",
       "      <td>\"\"</td>\n",
       "      <td>None</td>\n",
       "      <td>None</td>\n",
       "      <td>[ilvolo, parigi, france]</td>\n",
       "      <td>[(1391842856, ErcoleGinoble), (582304828, Ilvo...</td>\n",
       "      <td>RT @Ilvolomundial: Shared by @ErcoleGinoble #P...</td>\n",
       "    </tr>\n",
       "    <tr>\n",
       "      <th>4</th>\n",
       "      <td>736628805335420928</td>\n",
       "      <td>2416469280</td>\n",
       "      <td>BxBabnayMe</td>\n",
       "      <td>en</td>\n",
       "      <td>Sat May 28 18:42:47 +0000 2016</td>\n",
       "      <td>5</td>\n",
       "      <td>3</td>\n",
       "      <td>31</td>\n",
       "      <td>226.0</td>\n",
       "      <td>33.0</td>\n",
       "      <td>...</td>\n",
       "      <td>743</td>\n",
       "      <td>1</td>\n",
       "      <td>0</td>\n",
       "      <td>1</td>\n",
       "      <td>\"\"</td>\n",
       "      <td>None</td>\n",
       "      <td>None</td>\n",
       "      <td>[luxury, travel, lovetravel, cannes, france]</td>\n",
       "      <td>[(22411342, MrScottEddy), (1465448120, Azamara...</td>\n",
       "      <td>RT @MrScottEddy: Here's the sunset in #Cannes ...</td>\n",
       "    </tr>\n",
       "  </tbody>\n",
       "</table>\n",
       "<p>5 rows × 21 columns</p>\n",
       "</div>"
      ],
      "text/plain": [
       "                   id             user_id      username lang  \\\n",
       "0  736179397611429888            22692199       HISTORY   en   \n",
       "1  736299538303057920            64643056        RT_com   en   \n",
       "2  736292031203512320            64643056        RT_com   en   \n",
       "3  736628844870897664  718166731835969536  gaiadifelice   en   \n",
       "4  736628805335420928          2416469280    BxBabnayMe   en   \n",
       "\n",
       "                       created_at  hashtag_count  mention_count  \\\n",
       "0  Fri May 27 12:57:00 +0000 2016              2              0   \n",
       "1  Fri May 27 20:54:24 +0000 2016              1              0   \n",
       "2  Fri May 27 20:24:34 +0000 2016              3              0   \n",
       "3  Sat May 28 18:42:57 +0000 2016              3              2   \n",
       "4  Sat May 28 18:42:47 +0000 2016              5              3   \n",
       "\n",
       "   followers_count  friends_count  listed_count  \\\n",
       "0          1524223        17069.0        9643.0   \n",
       "1          2126025          565.0       17993.0   \n",
       "2          2126025          565.0       17993.0   \n",
       "3                7           26.0           1.0   \n",
       "4               31          226.0          33.0   \n",
       "\n",
       "                         ...                          statuses_count  \\\n",
       "0                        ...                                   46613   \n",
       "1                        ...                                  168440   \n",
       "2                        ...                                  168440   \n",
       "3                        ...                                     294   \n",
       "4                        ...                                     743   \n",
       "\n",
       "   #Undefined  #Videos  #Photos  coordinates bounding place  \\\n",
       "0           0        0        0           \"\"     None  None   \n",
       "1           0        0        0           \"\"     None  None   \n",
       "2           0        0        0           \"\"     None  None   \n",
       "3           1        0        1           \"\"     None  None   \n",
       "4           1        0        1           \"\"     None  None   \n",
       "\n",
       "                                       hashtags  \\\n",
       "0                    [thisdayinhistory, france]   \n",
       "1                                      [france]   \n",
       "2                   [loitravail, france, labor]   \n",
       "3                      [ilvolo, parigi, france]   \n",
       "4  [luxury, travel, lovetravel, cannes, france]   \n",
       "\n",
       "                                            Mentions  \\\n",
       "0                                                 []   \n",
       "1                                                 []   \n",
       "2                                                 []   \n",
       "3  [(1391842856, ErcoleGinoble), (582304828, Ilvo...   \n",
       "4  [(22411342, MrScottEddy), (1465448120, Azamara...   \n",
       "\n",
       "                                                text  \n",
       "0  On #ThisDayInHistory 1941, the British navy si...  \n",
       "1  No weekend work emails if new law forbidding t...  \n",
       "2  Chaos, uncertainty &amp; anger: 5 ways anti-#l...  \n",
       "3  RT @Ilvolomundial: Shared by @ErcoleGinoble #P...  \n",
       "4  RT @MrScottEddy: Here's the sunset in #Cannes ...  \n",
       "\n",
       "[5 rows x 21 columns]"
      ]
     },
     "execution_count": 7,
     "metadata": {},
     "output_type": "execute_result"
    }
   ],
   "source": [
    "pdf.head()"
   ]
  },
  {
   "cell_type": "markdown",
   "metadata": {},
   "source": [
    "Accessing the data of a tweet from its id"
   ]
  },
  {
   "cell_type": "code",
   "execution_count": 12,
   "metadata": {
    "collapsed": false
   },
   "outputs": [
    {
     "name": "stdout",
     "output_type": "stream",
     "text": [
      "RT @MrScottEddy: Here's the sunset in #Cannes #France, aboard the @AzamaraQuest on @AzamaraVoyages. #LoveTravel #Luxury #Travel https://t.c…\n",
      "[10.0]\n"
     ]
    }
   ],
   "source": [
    "ppd=pdf[pdf['id']=='736628805335420928']\n",
    "tx=ppd.text.tolist()[0]\n",
    "screen_name=ppd.username.tolist()[0]\n",
    "idt=ppd.id.tolist()[0]\n",
    "print tx\n",
    "# print ppd.retweet_count.tolist()"
   ]
  },
  {
   "cell_type": "code",
   "execution_count": 10,
   "metadata": {
    "collapsed": true
   },
   "outputs": [],
   "source": [
    "link=' https://twitter.com/%s/status/%s ' %(screen_name,idt)"
   ]
  },
  {
   "cell_type": "code",
   "execution_count": 11,
   "metadata": {
    "collapsed": false
   },
   "outputs": [
    {
     "data": {
      "text/plain": [
       "u' https://twitter.com/BxBabnayMe/status/736628805335420928 '"
      ]
     },
     "execution_count": 11,
     "metadata": {},
     "output_type": "execute_result"
    }
   ],
   "source": [
    "link"
   ]
  },
  {
   "cell_type": "code",
   "execution_count": null,
   "metadata": {
    "collapsed": true
   },
   "outputs": [],
   "source": []
  }
 ],
 "metadata": {
  "kernelspec": {
   "display_name": "Python 2",
   "language": "python",
   "name": "python2"
  },
  "language_info": {
   "codemirror_mode": {
    "name": "ipython",
    "version": 2
   },
   "file_extension": ".py",
   "mimetype": "text/x-python",
   "name": "python",
   "nbconvert_exporter": "python",
   "pygments_lexer": "ipython2",
   "version": "2.7.6"
  }
 },
 "nbformat": 4,
 "nbformat_minor": 0
}
