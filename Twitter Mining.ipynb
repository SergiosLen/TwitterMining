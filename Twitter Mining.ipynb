{
 "cells": [
  {
   "cell_type": "code",
   "execution_count": null,
   "metadata": {
    "collapsed": false
   },
   "outputs": [],
   "source": [
    "import pandas as pd\n",
    "import json \n",
    "import os\n",
    "import imp\n"
   ]
  },
  {
   "cell_type": "code",
   "execution_count": null,
   "metadata": {
    "collapsed": true
   },
   "outputs": [],
   "source": []
  },
  {
   "cell_type": "code",
   "execution_count": null,
   "metadata": {
    "collapsed": true
   },
   "outputs": [],
   "source": [
    "import collect_tweets_notebook as ctn\n"
   ]
  },
  {
   "cell_type": "code",
   "execution_count": null,
   "metadata": {
    "collapsed": true
   },
   "outputs": [],
   "source": [
    "cred_dic='/media/sergios-len/Elements/Brighton_workshop/auth_cred.txt'\n",
    "filesdir='/home/sergios-len/Documents/W5/myScripts/beakers/'\n",
    "working_dir='/home/sergios-len/Documents/githubs/TwitterMining'"
   ]
  },
  {
   "cell_type": "code",
   "execution_count": null,
   "metadata": {
    "collapsed": false
   },
   "outputs": [],
   "source": [
    "pp= !pwd\n",
    "os.chdir(working_dir)\n",
    "from test_class_tpa import create_df\n",
    "os.chdir(pp[0])\n",
    "\n",
    "def create_beaker_com_dict(sps):\n",
    "    nsps={}\n",
    "    for k,v in sps.items():\n",
    "        nsps[k]=[]\n",
    "        if k=='date_split':\n",
    "            for kk in sorted(v.keys()):\n",
    "                nsps[k].append(v[kk].strftime('%Y%m%d'))\n",
    "        else:\n",
    "            for kk in sorted(v.keys()):\n",
    "                nsps[k].append(v[kk])\n",
    "\n",
    "    return nsps"
   ]
  },
  {
   "cell_type": "code",
   "execution_count": null,
   "metadata": {
    "collapsed": false
   },
   "outputs": [],
   "source": [
    "vv=ctn.UserAuth(auth_file=cred_dic)"
   ]
  },
  {
   "cell_type": "code",
   "execution_count": null,
   "metadata": {
    "collapsed": false
   },
   "outputs": [],
   "source": [
    "vv.login()"
   ]
  },
  {
   "cell_type": "code",
   "execution_count": null,
   "metadata": {
    "collapsed": false
   },
   "outputs": [],
   "source": [
    "# vv.check_login()"
   ]
  },
  {
   "cell_type": "code",
   "execution_count": null,
   "metadata": {
    "collapsed": false
   },
   "outputs": [],
   "source": [
    "creddir='/media/sergios-len/Elements/Brighton_workshop'\n",
    "vv=ctn.UserAuth()"
   ]
  },
  {
   "cell_type": "code",
   "execution_count": null,
   "metadata": {
    "collapsed": false
   },
   "outputs": [],
   "source": [
    "vv.login()"
   ]
  },
  {
   "cell_type": "code",
   "execution_count": null,
   "metadata": {
    "collapsed": false,
    "scrolled": false
   },
   "outputs": [],
   "source": [
    "vv.check_login()\n",
    "#     def __init__(self, search_text,auth,working_path=None,out_file_dir=None,max_pages=10,results_per_page=100,sin_id=None,max_id=None,verbose=False):\n"
   ]
  },
  {
   "cell_type": "code",
   "execution_count": null,
   "metadata": {
    "collapsed": false
   },
   "outputs": [],
   "source": [
    "twi_api=vv.get_auth()\n",
    "# dir(twi_api)"
   ]
  },
  {
   "cell_type": "code",
   "execution_count": null,
   "metadata": {
    "collapsed": true
   },
   "outputs": [],
   "source": [
    "search_term='#Tsipras'\n",
    "wp='/media/sergios-len/Elements/Brighton_workshop/Untitled Folder'"
   ]
  },
  {
   "cell_type": "code",
   "execution_count": null,
   "metadata": {
    "collapsed": false
   },
   "outputs": [],
   "source": [
    "sea=ctn.TwitterSearch(twi_api,search_text='#Tsipras',sin_id='2016-05-25',verbose=True)\n",
    "sea=ctn.TwitterSearch(twi_api,search_text=search_term,working_path=wp,out_file_dir=None,\n",
    "max_pages=10,results_per_page=100,sin_id=None,max_id=None,verbose=True)"
   ]
  },
  {
   "cell_type": "code",
   "execution_count": null,
   "metadata": {
    "collapsed": false
   },
   "outputs": [],
   "source": [
    "sea.get_search_text()"
   ]
  },
  {
   "cell_type": "code",
   "execution_count": null,
   "metadata": {
    "collapsed": true
   },
   "outputs": [],
   "source": [
    "sea.set_search_text(search_text)"
   ]
  },
  {
   "cell_type": "code",
   "execution_count": null,
   "metadata": {
    "collapsed": false,
    "scrolled": true
   },
   "outputs": [],
   "source": [
    "sea.streamsearch()"
   ]
  },
  {
   "cell_type": "code",
   "execution_count": null,
   "metadata": {
    "collapsed": false,
    "scrolled": true
   },
   "outputs": [],
   "source": [
    "out_dir='/home/sergios-len/Documents/githubs/TwitterMining/Output'\n",
    "selt='rr'\n",
    "# outname='/home/sergios-len/Documents/W5/myScripts/beakers/%s_outpd.csv' %fifi\n",
    "outname=''\n",
    "pdf,httoadds=create_df(out_dir,selt,outname,multihas=False,r_or_p='python')"
   ]
  },
  {
   "cell_type": "code",
   "execution_count": null,
   "metadata": {
    "collapsed": false
   },
   "outputs": [],
   "source": [
    "pdf.head()"
   ]
  },
  {
   "cell_type": "code",
   "execution_count": null,
   "metadata": {
    "collapsed": false
   },
   "outputs": [],
   "source": [
    "pdf['Number of Cant tell'].unique()"
   ]
  },
  {
   "cell_type": "code",
   "execution_count": null,
   "metadata": {
    "collapsed": true
   },
   "outputs": [],
   "source": []
  }
 ],
 "metadata": {
  "kernelspec": {
   "display_name": "Python 2",
   "language": "python",
   "name": "python2"
  },
  "language_info": {
   "codemirror_mode": {
    "name": "ipython",
    "version": 2
   },
   "file_extension": ".py",
   "mimetype": "text/x-python",
   "name": "python",
   "nbconvert_exporter": "python",
   "pygments_lexer": "ipython2",
   "version": "2.7.6"
  }
 },
 "nbformat": 4,
 "nbformat_minor": 0
}
